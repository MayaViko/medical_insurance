{
 "cells": [
  {
   "cell_type": "markdown",
   "metadata": {},
   "source": [
    "# U.S. Medical Insurance Costs"
   ]
  },
  {
   "cell_type": "markdown",
   "metadata": {},
   "source": [
    "For this project, was CSV file using Python fundamentals investigated. The goal with this project was to analyze various attributes within medical insurance costs dataset to learn more about the patient information in the file and gain insight into potential use cases for the dataset."
   ]
  },
  {
   "cell_type": "code",
   "execution_count": 17,
   "metadata": {},
   "outputs": [],
   "source": [
    "import csv"
   ]
  },
  {
   "cell_type": "markdown",
   "metadata": {},
   "source": [
    "First step is to import all needed libraries. For this project is needed csv library. \n",
    "\n",
    "The next step is to look through insurance.csv in order to get aquanted with the data. To store information data frame `insurance_info` was created. To check the names of columns and types of  values (numerical vs. categorical) were printed first 5 rows."
   ]
  },
  {
   "cell_type": "code",
   "execution_count": 171,
   "metadata": {
    "scrolled": true
   },
   "outputs": [
    {
     "name": "stdout",
     "output_type": "stream",
     "text": [
      "   age     sex     bmi  children smoker     region      charges\n",
      "0   19  female  27.900         0    yes  southwest  16884.92400\n",
      "1   18    male  33.770         1     no  southeast   1725.55230\n",
      "2   28    male  33.000         3     no  southeast   4449.46200\n",
      "3   33    male  22.705         0     no  northwest  21984.47061\n",
      "4   32    male  28.880         0     no  northwest   3866.85520\n"
     ]
    }
   ],
   "source": [
    "insurance_info = pd.read_csv('insurance.csv')\n",
    "print(insurance_info.head())  "
   ]
  },
  {
   "cell_type": "markdown",
   "metadata": {},
   "source": [
    "Сreation of lists for each column value, that containts information about patient's age, his gender, bmi, number of children, if he is smoker, his region and charges."
   ]
  },
  {
   "cell_type": "code",
   "execution_count": 176,
   "metadata": {},
   "outputs": [],
   "source": [
    "#Create lists of information\n",
    "\n",
    "age = insurance_info[\"age\"]\n",
    "gender = insurance_info[\"sex\"]\n",
    "bmi= insurance_info[\"bmi\"]\n",
    "children = insurance_info[\"children\"]\n",
    "smoker = insurance_info[\"smoker\"]\n",
    "region =  insurance_info[\"region\"]\n",
    "charges = insurance_info[\"charges\"]"
   ]
  },
  {
   "cell_type": "markdown",
   "metadata": {},
   "source": [
    "Creation of the function that constructs a dictionary made out of the lists, where the keys of the dictionary is sequence number from the first column, and the values are dictionaries themselves containing a key for each piece of data (age, gender, bmi, children, smoker, region, charges) about patient."
   ]
  },
  {
   "cell_type": "code",
   "execution_count": 173,
   "metadata": {},
   "outputs": [],
   "source": [
    "#Create insurance dictionary function:\n",
    "\n",
    "def insurance (age, gender, bmi, children, smoker, region, charges):\n",
    "    insurance_dictionary = {}\n",
    "    for i in range(len(age)):\n",
    "        insurance_dictionary[i] = {\n",
    "            \"Age\": age[i],\n",
    "            \"Gender\": gender[i],\n",
    "            \"BMI\": bmi[i], \n",
    "            \"Children\": children[i],\n",
    "            \"Smoker\": smoker[i],\n",
    "            \"Regions\": region[i],\n",
    "            \"Charges\": charges[i]\n",
    "        }  \n",
    "    return insurance_dictionary\n",
    "\n",
    "new_insurance = insurance(age, gender, bmi, children, smoker, region, charges)\n",
    "#print(new_insurance_list)"
   ]
  },
  {
   "cell_type": "markdown",
   "metadata": {},
   "source": [
    "Now that all the data from insurance.csv neatly organized into labeled lists and dictionary the analysis can be started. This is where one must plan out what to investigate and how to perform the analysis. There are many aspects of the data that could be looked into. The following operations will be implemented:\n",
    "\n",
    " * find average age of the patients\n",
    " * find the number of smokers vs. nonsmokers and the difference between their average insurance costs\n",
    " * return the number of males vs. females counted in the dataset\n",
    " * return the average yearly medical charges of the patients\n",
    " * return which average BMI (males vs. females) is higher\n",
    " * return average age of the patients with 1 child or more\n",
    " * return the number of patients from different geographical locations\n",
    " * return the sum and average yearly medical charges of the patients for each geofraphical location"
   ]
  },
  {
   "cell_type": "markdown",
   "metadata": {},
   "source": [
    "The first step of the analysis is to check the average age of patients in insurance.csv."
   ]
  },
  {
   "cell_type": "code",
   "execution_count": 187,
   "metadata": {
    "scrolled": true
   },
   "outputs": [
    {
     "name": "stdout",
     "output_type": "stream",
     "text": [
      "Avarage age of patients is 39 years.\n"
     ]
    }
   ],
   "source": [
    "# Define average age of the patients\n",
    "\n",
    "def average_age (age_list):\n",
    "    sum_age = 0\n",
    "    \n",
    "    for i in age_list:\n",
    "        sum_age += i\n",
    "        average_age = int(sum_age / len(age_list))\n",
    "    print(\"Avarage age of patients is \" + str(average_age) + \" years.\")\n",
    "    return average_age\n",
    "\n",
    "average_age = average_age(age)"
   ]
  },
  {
   "cell_type": "markdown",
   "metadata": {},
   "source": [
    "The second step is to find the number of smokers and non-smokers and the difference between their average insurance costs."
   ]
  },
  {
   "cell_type": "code",
   "execution_count": 208,
   "metadata": {},
   "outputs": [
    {
     "name": "stdout",
     "output_type": "stream",
     "text": [
      "In the data are 1064 non-smokers and 274 smokers. The difference between the average insurance charge is 23615.96\n"
     ]
    }
   ],
   "source": [
    "#Costs difference between smokers and non-smokers\n",
    "\n",
    "def cost_difference_smoker_non_smoker (smoker_list, charge_list):\n",
    "    \n",
    "    charge_smoker_list = zip(smoker_list, charge_list)\n",
    "    \n",
    "    smoker_charge_sum = 0\n",
    "    non_smoker_charge_sum = 0\n",
    "    num_of_smoker = 0\n",
    "    num_of_non_smoker = 0\n",
    "    \n",
    "    for smoke, charge in zip(smoker_list, charge_list):      \n",
    "        if smoke == \"yes\":\n",
    "            smoker_charge_sum += float(charge)\n",
    "            num_of_smoker += 1\n",
    "                \n",
    "        else:\n",
    "            non_smoker_charge_sum += float(charge)\n",
    "            num_of_non_smoker += 1\n",
    "    \n",
    "    average_non_smoker_charge = non_smoker_charge_sum / num_of_non_smoker\n",
    "    average_smoker_charge = smoker_charge_sum / num_of_smoker\n",
    "    difference_in_average_charge = round(abs(average_non_smoker_charge - average_smoker_charge),2)\n",
    "    \n",
    "    print(\"In the data are \" + str(num_of_non_smoker) + \" non-smokers and \" + str(num_of_smoker) + \" smokers. The difference between the average insurance charge is \" + str(difference_in_average_charge))\n",
    "    return num_of_smoker,num_of_non_smoker, difference_in_average_charge   \n",
    "\n",
    "\n",
    "difference_smoker_info =  cost_difference_smoker_non_smoker (smoker, charges)"
   ]
  },
  {
   "cell_type": "markdown",
   "metadata": {},
   "source": [
    "The third step of analysis is to find the number of males and females counted in the dataset"
   ]
  },
  {
   "cell_type": "code",
   "execution_count": 211,
   "metadata": {},
   "outputs": [
    {
     "name": "stdout",
     "output_type": "stream",
     "text": [
      "The dataset consist of 662 women and 676 men.\n"
     ]
    }
   ],
   "source": [
    "#Count the number of male and female\n",
    "\n",
    "def number_of_male_and_female(sex_list):\n",
    "    male_number = 0\n",
    "    female_number = 0\n",
    "    \n",
    "    for gender in sex_list:\n",
    "        if gender == \"female\":\n",
    "            female_number += 1\n",
    "        else:\n",
    "            male_number += 1\n",
    "    print(\"The dataset consist of \" + str(female_number) + \" women and \" + str(male_number) + \" men.\")\n",
    "    return female_number, male_number\n",
    "\n",
    "male_female_info = number_of_male_and_female(sex)"
   ]
  },
  {
   "cell_type": "markdown",
   "metadata": {},
   "source": [
    "The forth step is to find out the average yearly medical charges of the patients"
   ]
  },
  {
   "cell_type": "code",
   "execution_count": 214,
   "metadata": {},
   "outputs": [
    {
     "name": "stdout",
     "output_type": "stream",
     "text": [
      "The average yearly medical charge of the patients in the dataset is 13270.42 USD.\n"
     ]
    }
   ],
   "source": [
    "# Count the average year charge\n",
    "\n",
    "def average_year_charge(charge_list):\n",
    "    charge_sum = 0\n",
    "    \n",
    "    for charge in charge_list:\n",
    "        charge_sum += charge\n",
    "        average_yearly_charge = round((charge_sum / len(charge_list)),2)\n",
    "    print(\"The average yearly medical charge of the patients in the dataset is \" + str(average_yearly_charge) + \" USD.\")\n",
    "    return average_yearly_charge\n",
    "\n",
    "average_patient_year_charge = average_year_charge (charges)"
   ]
  },
  {
   "cell_type": "markdown",
   "metadata": {},
   "source": [
    "The firth step of the analysis is to define average BMI of man and women."
   ]
  },
  {
   "cell_type": "code",
   "execution_count": 218,
   "metadata": {},
   "outputs": [
    {
     "name": "stdout",
     "output_type": "stream",
     "text": [
      "The average bmi value foe women is 30.38 while for men this value is 30.94\n"
     ]
    }
   ],
   "source": [
    "# Count the average bmi of men and women\n",
    "\n",
    "def average_gender_bmi (bmi_list, sex_list):\n",
    "    male_bmi = 0\n",
    "    female_bmi = 0\n",
    "    male_number = 0\n",
    "    female_number = 0\n",
    "    \n",
    "    for bmi, sex in zip (bmi_list, sex_list):\n",
    "        if sex == \"female\":\n",
    "            female_bmi += float(bmi)\n",
    "            female_number += 1\n",
    "        else:\n",
    "            male_bmi += float(bmi)\n",
    "            male_number += 1\n",
    "     \n",
    "    average_male_bmi = round((male_bmi / male_number),2)\n",
    "    average_female_bmi = round((female_bmi / female_number),2)\n",
    "    print(\"The average bmi value foe women is \" + str(average_female_bmi) +  \" while for men this value is \" + str(average_male_bmi))\n",
    "    return average_male_bmi, average_female_bmi\n",
    " \n",
    "gender_bmi_info = average_gender_bmi(bmi, sex)"
   ]
  },
  {
   "cell_type": "markdown",
   "metadata": {},
   "source": [
    "The sixth step is to count average age of the patients with at least 1 child"
   ]
  },
  {
   "cell_type": "code",
   "execution_count": 221,
   "metadata": {},
   "outputs": [
    {
     "name": "stdout",
     "output_type": "stream",
     "text": [
      "The average age of patients with at least one child is 39\n"
     ]
    }
   ],
   "source": [
    "#Count average age of someone who has at list one child\n",
    "\n",
    "def average_age_of_patients_with_kids (kids_list, age_list):\n",
    "    patients_with_kids = 0\n",
    "    age_sum = 0\n",
    "    \n",
    "    for kid, age in zip(kids_list, age_list):\n",
    "        if kid > 0:\n",
    "            patients_with_kids += 1\n",
    "            age_sum += float(age)\n",
    "        else:\n",
    "            continue\n",
    "    average_age_patients_with_kids = int(age_sum / patients_with_kids)\n",
    "    print(\"The average age of patients with at least one child is \" + str(average_age_patients_with_kids))\n",
    "    return average_age_patients_with_kids\n",
    "\n",
    "average_age_with_children = average_age_of_patients_with_kids(children, age)\n",
    "            "
   ]
  },
  {
   "cell_type": "markdown",
   "metadata": {},
   "source": [
    "The seventh step of the analysis is to found out the number of patients from different geographical locations"
   ]
  },
  {
   "cell_type": "code",
   "execution_count": 229,
   "metadata": {},
   "outputs": [
    {
     "name": "stdout",
     "output_type": "stream",
     "text": [
      "{'southwest': 324, 'southeast': 363, 'northwest': 324, 'northeast': 323}\n"
     ]
    }
   ],
   "source": [
    "#Number of individuals in each region\n",
    "\n",
    "def number_of_patients_in_locations(region_list):\n",
    "    \n",
    "    count_in_regions = {}\n",
    "    \n",
    "    for i in region_list:\n",
    "        if i in count_in_regions:\n",
    "            count_in_regions [i] += 1\n",
    "        else:\n",
    "            count_in_regions[i] = 0\n",
    "    print(count_in_regions)\n",
    "    return count_in_regions\n",
    "\n",
    "pations_in_location = number_of_patients_in_locations(region)"
   ]
  },
  {
   "cell_type": "markdown",
   "metadata": {},
   "source": [
    "The eighth and final for this project step of the analysis is to count the sum and average yearly medical charges of the patients for each geographical location"
   ]
  },
  {
   "cell_type": "code",
   "execution_count": 257,
   "metadata": {},
   "outputs": [
    {
     "name": "stdout",
     "output_type": "stream",
     "text": [
      "dict_keys(['southwest', 'southeast', 'northwest', 'northeast'])\n"
     ]
    }
   ],
   "source": [
    "#Creating the list of unique regions\n",
    "\n",
    "unique_regions_list = pations_in_location.keys()\n",
    "\n",
    "print(unique_regions_list)"
   ]
  },
  {
   "cell_type": "code",
   "execution_count": 277,
   "metadata": {
    "scrolled": true
   },
   "outputs": [
    {
     "name": "stdout",
     "output_type": "stream",
     "text": [
      "(['4012754.69', '5363689.78', '4035711.93', '4343668.61'], [12385.05, 14776.0, 12455.9, 13447.89])\n"
     ]
    }
   ],
   "source": [
    "#Sum and average number of charges in different geographical locations\n",
    "\n",
    "def sum_of_charges (region_list, charges_list):\n",
    "     \n",
    "    region_charges_list = []\n",
    "    average_charges_list = [] \n",
    "        \n",
    "    southwest_charges = 0\n",
    "    southeast_charges = 0\n",
    "    northwest_charges = 0\n",
    "    northeast_charges = 0 \n",
    "    \n",
    "    for region, charge in zip(region_list, charges_list):\n",
    "        if region == 'southwest':\n",
    "            southwest_charges += round(float(charge),2)\n",
    "        elif region == 'southeast':\n",
    "            southeast_charges += round(float(charge),2)\n",
    "        elif region == 'northwest':\n",
    "            northwest_charges += round(float(charge),2)\n",
    "        else: \n",
    "            northeast_charges += round(float(charge),2)\n",
    "    \n",
    "    region_charges_list.append(\"%.2f\" % southwest_charges)\n",
    "    region_charges_list.append(\"%.2f\" % (southeast_charges))\n",
    "    region_charges_list.append(\"%.2f\" % northwest_charges)\n",
    "    region_charges_list.append(\"%.2f\" % northeast_charges)\n",
    "    \n",
    "    southwest_average = round((southwest_charges / pations_in_location['southwest']),2)\n",
    "    southeast_average = round((southeast_charges / pations_in_location['southeast']),2)\n",
    "    northwest_average = round((northwest_charges / pations_in_location['northwest']),2)\n",
    "    northeast_average = round((northeast_charges / pations_in_location['northeast']),2)\n",
    "    \n",
    "    average_charges_list.append(southwest_average)\n",
    "    average_charges_list.append(southeast_average)\n",
    "    average_charges_list.append(northwest_average)\n",
    "    average_charges_list.append(northeast_average)\n",
    "    \n",
    "    return region_charges_list, average_charges_list\n",
    "        \n",
    "sum_of_charges_different_regions = sum_of_charges(region, charges)  \n",
    "print(sum_of_charges_different_regions)\n",
    "    "
   ]
  }
 ],
 "metadata": {
  "kernelspec": {
   "display_name": "Python 3 (ipykernel)",
   "language": "python",
   "name": "python3"
  },
  "language_info": {
   "codemirror_mode": {
    "name": "ipython",
    "version": 3
   },
   "file_extension": ".py",
   "mimetype": "text/x-python",
   "name": "python",
   "nbconvert_exporter": "python",
   "pygments_lexer": "ipython3",
   "version": "3.9.12"
  }
 },
 "nbformat": 4,
 "nbformat_minor": 4
}
